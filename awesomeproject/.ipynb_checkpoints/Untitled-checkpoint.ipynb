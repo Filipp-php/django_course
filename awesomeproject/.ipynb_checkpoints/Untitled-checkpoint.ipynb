{
 "cells": [
  {
   "cell_type": "code",
   "execution_count": 5,
   "id": "a8432deb",
   "metadata": {},
   "outputs": [],
   "source": [
    "from trainApp.models import Workout\n",
    "import datetime"
   ]
  },
  {
   "cell_type": "code",
   "execution_count": 17,
   "id": "b28df527",
   "metadata": {},
   "outputs": [
    {
     "data": {
      "text/plain": [
       "datetime.date(2021, 12, 12)"
      ]
     },
     "execution_count": 17,
     "metadata": {},
     "output_type": "execute_result"
    }
   ],
   "source": [
    "q = Workout.objects.all()\n",
    "q[0].data.date()\n"
   ]
  },
  {
   "cell_type": "code",
   "execution_count": 21,
   "id": "3adab8ea",
   "metadata": {},
   "outputs": [
    {
     "data": {
      "text/plain": [
       "<QuerySet [<Workout: Тестовая тренировка>, <Workout: Тест2>, <Workout: Тестовая тренировка 2>]>"
      ]
     },
     "execution_count": 21,
     "metadata": {},
     "output_type": "execute_result"
    }
   ],
   "source": [
    "Workout.objects.filter(data__year=datetime.datetime.today().year, data__month=datetime.datetime.today().month, data__day=datetime.datetime.today().day)\n"
   ]
  },
  {
   "cell_type": "code",
   "execution_count": null,
   "id": "ac5c7bf6",
   "metadata": {},
   "outputs": [],
   "source": []
  }
 ],
 "metadata": {
  "kernelspec": {
   "display_name": "Django Shell-Plus",
   "language": "python",
   "name": "django_extensions"
  },
  "language_info": {
   "codemirror_mode": {
    "name": "ipython",
    "version": 3
   },
   "file_extension": ".py",
   "mimetype": "text/x-python",
   "name": "python",
   "nbconvert_exporter": "python",
   "pygments_lexer": "ipython3",
   "version": "3.9.1"
  }
 },
 "nbformat": 4,
 "nbformat_minor": 5
}
