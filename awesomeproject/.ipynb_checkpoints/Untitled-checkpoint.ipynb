{
 "cells": [
  {
   "cell_type": "code",
   "execution_count": 18,
   "id": "60843236",
   "metadata": {},
   "outputs": [],
   "source": [
    "from trainApp.models import Workout, Base_wkt, Crossfit_wkt, Exercise, Cft_complex\n",
    "import datetime\n",
    "from django.core import serializers"
   ]
  },
  {
   "cell_type": "code",
   "execution_count": 3,
   "id": "71b7d20c",
   "metadata": {},
   "outputs": [
    {
     "data": {
      "text/plain": [
       "datetime.date(2021, 12, 12)"
      ]
     },
     "execution_count": 3,
     "metadata": {},
     "output_type": "execute_result"
    }
   ],
   "source": [
    "q = Workout.objects.all()\n",
    "q[0].data.date()\n"
   ]
  },
  {
   "cell_type": "code",
   "execution_count": 4,
   "id": "d5c8ba18",
   "metadata": {},
   "outputs": [
    {
     "data": {
      "text/plain": [
       "<QuerySet [<Workout: Тестовая тренировка 2>]>"
      ]
     },
     "execution_count": 4,
     "metadata": {},
     "output_type": "execute_result"
    }
   ],
   "source": [
    "Workout.objects.filter(data__year=datetime.datetime.today().year, data__month=datetime.datetime.today().month, data__day=datetime.datetime.today().day-1).order_by('-data')\n"
   ]
  },
  {
   "cell_type": "code",
   "execution_count": 15,
   "id": "b90502bd",
   "metadata": {},
   "outputs": [],
   "source": [
    "g = Base_wkt.objects.all()\n",
    "\n"
   ]
  },
  {
   "cell_type": "code",
   "execution_count": 23,
   "id": "c7862699",
   "metadata": {},
   "outputs": [
    {
     "ename": "TypeError",
     "evalue": "In order to allow non-dict objects to be serialized set the safe parameter to False.",
     "output_type": "error",
     "traceback": [
      "\u001b[1;31m---------------------------------------------------------------------------\u001b[0m",
      "\u001b[1;31mTypeError\u001b[0m                                 Traceback (most recent call last)",
      "\u001b[1;32m<ipython-input-23-1834f2a34bf0>\u001b[0m in \u001b[0;36m<module>\u001b[1;34m\u001b[0m\n\u001b[1;32m----> 1\u001b[1;33m \u001b[0mJsonResponse\u001b[0m\u001b[1;33m(\u001b[0m\u001b[0mg\u001b[0m\u001b[1;33m,\u001b[0m \u001b[0msafe\u001b[0m\u001b[1;33m=\u001b[0m\u001b[1;32mTrue\u001b[0m\u001b[1;33m)\u001b[0m\u001b[1;33m\u001b[0m\u001b[1;33m\u001b[0m\u001b[0m\n\u001b[0m",
      "\u001b[1;32m~\\AppData\\Local\\Programs\\Python\\Python39\\lib\\site-packages\\django\\http\\response.py\u001b[0m in \u001b[0;36m__init__\u001b[1;34m(self, data, encoder, safe, json_dumps_params, **kwargs)\u001b[0m\n\u001b[0;32m    594\u001b[0m                  json_dumps_params=None, **kwargs):\n\u001b[0;32m    595\u001b[0m         \u001b[1;32mif\u001b[0m \u001b[0msafe\u001b[0m \u001b[1;32mand\u001b[0m \u001b[1;32mnot\u001b[0m \u001b[0misinstance\u001b[0m\u001b[1;33m(\u001b[0m\u001b[0mdata\u001b[0m\u001b[1;33m,\u001b[0m \u001b[0mdict\u001b[0m\u001b[1;33m)\u001b[0m\u001b[1;33m:\u001b[0m\u001b[1;33m\u001b[0m\u001b[1;33m\u001b[0m\u001b[0m\n\u001b[1;32m--> 596\u001b[1;33m             raise TypeError(\n\u001b[0m\u001b[0;32m    597\u001b[0m                 \u001b[1;34m'In order to allow non-dict objects to be serialized set the '\u001b[0m\u001b[1;33m\u001b[0m\u001b[1;33m\u001b[0m\u001b[0m\n\u001b[0;32m    598\u001b[0m                 \u001b[1;34m'safe parameter to False.'\u001b[0m\u001b[1;33m\u001b[0m\u001b[1;33m\u001b[0m\u001b[0m\n",
      "\u001b[1;31mTypeError\u001b[0m: In order to allow non-dict objects to be serialized set the safe parameter to False."
     ]
    }
   ],
   "source": [
    "JsonResponse(g, safe=True)\n"
   ]
  },
  {
   "cell_type": "code",
   "execution_count": null,
   "id": "00eb9ef7",
   "metadata": {},
   "outputs": [],
   "source": []
  }
 ],
 "metadata": {
  "kernelspec": {
   "display_name": "Django Shell-Plus",
   "language": "python",
   "name": "django_extensions"
  },
  "language_info": {
   "codemirror_mode": {
    "name": "ipython",
    "version": 3
   },
   "file_extension": ".py",
   "mimetype": "text/x-python",
   "name": "python",
   "nbconvert_exporter": "python",
   "pygments_lexer": "ipython3",
   "version": "3.9.1"
  }
 },
 "nbformat": 4,
 "nbformat_minor": 5
}
