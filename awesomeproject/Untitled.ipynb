{
 "cells": [
  {
   "cell_type": "code",
   "execution_count": 5,
   "id": "60843236",
   "metadata": {},
   "outputs": [],
   "source": [
    "from trainApp.models import Workout\n",
    "import datetime"
   ]
  },
  {
   "cell_type": "code",
   "execution_count": 17,
   "id": "71b7d20c",
   "metadata": {},
   "outputs": [
    {
     "data": {
      "text/plain": [
       "datetime.date(2021, 12, 12)"
      ]
     },
     "execution_count": 17,
     "metadata": {},
     "output_type": "execute_result"
    }
   ],
   "source": [
    "q = Workout.objects.all()\n",
    "q[0].data.date()\n"
   ]
  },
  {
   "cell_type": "code",
   "execution_count": 29,
   "id": "d5c8ba18",
   "metadata": {},
   "outputs": [
    {
     "data": {
      "text/plain": [
       "<QuerySet [<Workout: Тестовая тренировка 2>, <Workout: Тест2>, <Workout: Тестовая тренировка>]>"
      ]
     },
     "execution_count": 29,
     "metadata": {},
     "output_type": "execute_result"
    }
   ],
   "source": [
    "Workout.objects.filter(data__year=datetime.datetime.today().year, data__month=datetime.datetime.today().month, data__day=datetime.datetime.today().day-1).order_by('-data')\n"
   ]
  },
  {
   "cell_type": "code",
   "execution_count": null,
   "id": "b90502bd",
   "metadata": {},
   "outputs": [],
   "source": []
  }
 ],
 "metadata": {
  "kernelspec": {
   "display_name": "Django Shell-Plus",
   "language": "python",
   "name": "django_extensions"
  },
  "language_info": {
   "codemirror_mode": {
    "name": "ipython",
    "version": 3
   },
   "file_extension": ".py",
   "mimetype": "text/x-python",
   "name": "python",
   "nbconvert_exporter": "python",
   "pygments_lexer": "ipython3",
   "version": "3.9.1"
  }
 },
 "nbformat": 4,
 "nbformat_minor": 5
}
