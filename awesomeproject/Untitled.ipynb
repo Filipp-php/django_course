{
 "cells": [
  {
   "cell_type": "code",
   "execution_count": 25,
   "id": "60843236",
   "metadata": {},
   "outputs": [],
   "source": [
    "from trainApp.models import Workout, Base_wkt, Crossfit_wkt, Exercise, Cft_complex\n",
    "import datetime\n",
    "from django.core import serializers"
   ]
  },
  {
   "cell_type": "code",
   "execution_count": 3,
   "id": "71b7d20c",
   "metadata": {},
   "outputs": [
    {
     "data": {
      "text/plain": [
       "datetime.date(2021, 12, 12)"
      ]
     },
     "execution_count": 3,
     "metadata": {},
     "output_type": "execute_result"
    }
   ],
   "source": [
    "q = Workout.objects.all()\n",
    "q[0].data.date()\n"
   ]
  },
  {
   "cell_type": "code",
   "execution_count": 4,
   "id": "d5c8ba18",
   "metadata": {},
   "outputs": [
    {
     "data": {
      "text/plain": [
       "<QuerySet [<Workout: Тестовая тренировка 2>]>"
      ]
     },
     "execution_count": 4,
     "metadata": {},
     "output_type": "execute_result"
    }
   ],
   "source": [
    "Workout.objects.filter(data__year=datetime.datetime.today().year, data__month=datetime.datetime.today().month, data__day=datetime.datetime.today().day-1).order_by('-data')\n"
   ]
  },
  {
   "cell_type": "code",
   "execution_count": 15,
   "id": "b90502bd",
   "metadata": {},
   "outputs": [],
   "source": [
    "g = Base_wkt.objects.all()\n",
    "\n"
   ]
  },
  {
   "cell_type": "code",
   "execution_count": 27,
   "id": "41e45fa3",
   "metadata": {},
   "outputs": [
    {
     "data": {
      "text/plain": [
       "'[{\"model\": \"trainApp.base_wkt\", \"pk\": 1, \"fields\": {\"name\": 30, \"exercise\": 1, \"ex_number\": 1, \"sets\": 5, \"quantity_in_set\": 12, \"measurement\": \"Q\", \"rest\": 60}}, {\"model\": \"trainApp.base_wkt\", \"pk\": 2, \"fields\": {\"name\": 30, \"exercise\": 1, \"ex_number\": 2, \"sets\": 5, \"quantity_in_set\": 12, \"measurement\": \"Q\", \"rest\": 60}}, {\"model\": \"trainApp.base_wkt\", \"pk\": 3, \"fields\": {\"name\": 31, \"exercise\": 1, \"ex_number\": 1, \"sets\": 5, \"quantity_in_set\": 12, \"measurement\": \"Q\", \"rest\": 60}}, {\"model\": \"trainApp.base_wkt\", \"pk\": 4, \"fields\": {\"name\": 32, \"exercise\": 1, \"ex_number\": 1, \"sets\": 5, \"quantity_in_set\": 12, \"measurement\": \"Q\", \"rest\": 60}}, {\"model\": \"trainApp.base_wkt\", \"pk\": 5, \"fields\": {\"name\": 33, \"exercise\": 1, \"ex_number\": 1, \"sets\": 5, \"quantity_in_set\": 12, \"measurement\": \"Q\", \"rest\": 60}}, {\"model\": \"trainApp.base_wkt\", \"pk\": 6, \"fields\": {\"name\": 34, \"exercise\": 1, \"ex_number\": 1, \"sets\": 5, \"quantity_in_set\": 12, \"measurement\": \"Q\", \"rest\": 60}}, {\"model\": \"trainApp.base_wkt\", \"pk\": 7, \"fields\": {\"name\": 34, \"exercise\": 1, \"ex_number\": 2, \"sets\": 5, \"quantity_in_set\": 12, \"measurement\": \"Q\", \"rest\": 60}}, {\"model\": \"trainApp.base_wkt\", \"pk\": 8, \"fields\": {\"name\": 35, \"exercise\": 1, \"ex_number\": 1, \"sets\": 5, \"quantity_in_set\": 12, \"measurement\": \"Q\", \"rest\": 60}}, {\"model\": \"trainApp.base_wkt\", \"pk\": 9, \"fields\": {\"name\": 36, \"exercise\": 1, \"ex_number\": 1, \"sets\": 5, \"quantity_in_set\": 12, \"measurement\": \"Q\", \"rest\": 60}}, {\"model\": \"trainApp.base_wkt\", \"pk\": 10, \"fields\": {\"name\": 37, \"exercise\": 1, \"ex_number\": 1, \"sets\": 5, \"quantity_in_set\": 12, \"measurement\": \"Q\", \"rest\": 60}}, {\"model\": \"trainApp.base_wkt\", \"pk\": 11, \"fields\": {\"name\": 38, \"exercise\": 1, \"ex_number\": 1, \"sets\": 5, \"quantity_in_set\": 12, \"measurement\": \"Q\", \"rest\": 60}}, {\"model\": \"trainApp.base_wkt\", \"pk\": 12, \"fields\": {\"name\": 39, \"exercise\": 1, \"ex_number\": 1, \"sets\": 5, \"quantity_in_set\": 12, \"measurement\": \"Q\", \"rest\": 60}}, {\"model\": \"trainApp.base_wkt\", \"pk\": 13, \"fields\": {\"name\": 40, \"exercise\": 1, \"ex_number\": 1, \"sets\": 5, \"quantity_in_set\": 12, \"measurement\": \"Q\", \"rest\": 60}}, {\"model\": \"trainApp.base_wkt\", \"pk\": 14, \"fields\": {\"name\": 41, \"exercise\": 1, \"ex_number\": 1, \"sets\": 5, \"quantity_in_set\": 12, \"measurement\": \"Q\", \"rest\": 60}}, {\"model\": \"trainApp.base_wkt\", \"pk\": 15, \"fields\": {\"name\": 47, \"exercise\": 1, \"ex_number\": 2, \"sets\": 5, \"quantity_in_set\": 12, \"measurement\": \"Q\", \"rest\": 60}}]'"
      ]
     },
     "execution_count": 27,
     "metadata": {},
     "output_type": "execute_result"
    }
   ],
   "source": [
    "serializers.serialize(\"json\", g)\n"
   ]
  },
  {
   "cell_type": "code",
   "execution_count": null,
   "id": "5d65d270",
   "metadata": {},
   "outputs": [],
   "source": []
  }
 ],
 "metadata": {
  "kernelspec": {
   "display_name": "Django Shell-Plus",
   "language": "python",
   "name": "django_extensions"
  },
  "language_info": {
   "codemirror_mode": {
    "name": "ipython",
    "version": 3
   },
   "file_extension": ".py",
   "mimetype": "text/x-python",
   "name": "python",
   "nbconvert_exporter": "python",
   "pygments_lexer": "ipython3",
   "version": "3.9.1"
  }
 },
 "nbformat": 4,
 "nbformat_minor": 5
}
